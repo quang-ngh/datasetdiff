{
 "cells": [
  {
   "cell_type": "code",
   "execution_count": null,
   "metadata": {},
   "outputs": [],
   "source": [
    "from pathlib import Path"
   ]
  },
  {
   "cell_type": "code",
   "execution_count": null,
   "metadata": {},
   "outputs": [],
   "source": [
    "base = Path(__file__).resolve().parent"
   ]
  },
  {
   "cell_type": "code",
   "execution_count": null,
   "metadata": {},
   "outputs": [],
   "source": [
    "from setting import DataPathConfig\n",
    "print(DataPathConfig.self.DATA_DOR)"
   ]
  }
 ],
 "metadata": {
  "kernelspec": {
   "display_name": "ml-research",
   "language": "python",
   "name": "python3"
  },
  "language_info": {
   "name": "python",
   "version": "3.9.16"
  },
  "orig_nbformat": 4,
  "vscode": {
   "interpreter": {
    "hash": "c2d3230c5e84bac4759606907fad0032c284a9b8de92576677ee571a5f8ebd60"
   }
  }
 },
 "nbformat": 4,
 "nbformat_minor": 2
}
